{
  "nbformat": 4,
  "nbformat_minor": 0,
  "metadata": {
    "colab": {
      "name": "heart_enginx",
      "version": "0.3.2",
      "provenance": [],
      "collapsed_sections": [],
      "include_colab_link": true
    },
    "kernelspec": {
      "name": "python3",
      "display_name": "Python 3"
    },
    "accelerator": "GPU"
  },
  "cells": [
    {
      "cell_type": "markdown",
      "metadata": {
        "id": "view-in-github",
        "colab_type": "text"
      },
      "source": [
        "<a href=\"https://colab.research.google.com/github/ansh-mehta/EngiNx-2019/blob/master/heart_enginx.ipynb\" target=\"_parent\"><img src=\"https://colab.research.google.com/assets/colab-badge.svg\" alt=\"Open In Colab\"/></a>"
      ]
    },
    {
      "cell_type": "markdown",
      "metadata": {
        "id": "8N6bqk2rsGQH",
        "colab_type": "text"
      },
      "source": [
        "# **Choose the file from explorer**"
      ]
    },
    {
      "cell_type": "code",
      "metadata": {
        "id": "-v8aLvaU2I1o",
        "colab_type": "code",
        "colab": {}
      },
      "source": [
        "from __future__ import print_function\n",
        "\n",
        "import math\n",
        "\n",
        "from IPython import display\n",
        "from matplotlib import cm\n",
        "from matplotlib import gridspec\n",
        "from matplotlib import pyplot as plt\n",
        "import numpy as np\n",
        "import pandas as pd\n",
        "from sklearn import metrics\n",
        "import tensorflow as tf\n",
        "from tensorflow.python.data import Dataset\n",
        "\n",
        "tf.logging.set_verbosity(tf.logging.ERROR)\n",
        "pd.options.display.max_rows = 10\n",
        "pd.options.display.float_format = '{:.1f}'.format\n",
        "from google.colab import files\n",
        "uploaded = files.upload()\n",
        "\n",
        "import io\n",
        "heart_df = pd.read_csv(io.BytesIO(uploaded['heart_enginx.csv']))\n",
        "heart_df = heart_df.dropna()\n",
        "heart_df = heart_df.replace('-9',pd.np.nan).dropna()\n",
        "heart_df = heart_df.replace('?',pd.np.nan).dropna()\n",
        "heart_df\n",
        "\n",
        "\n",
        "heart_df[\"age\"]= heart_df[\"age\"].astype(float)\n",
        "heart_df[\"sex\"]=(heart_df[\"sex\"]).astype(float)\n",
        "heart_df[\"cp\"]=(heart_df[\"cp\"]).astype(float)\n",
        "heart_df[\"rest_bp\"]=(heart_df[\"rest_bp\"]).astype(float)\n",
        "heart_df[\"chol\"]=(heart_df[\"chol\"]).astype(float)\n",
        "heart_df[\"fast_bs\"]=(heart_df[\"fast_bs\"]).astype(float)\n",
        "heart_df[\"rest_ecg\"]=(heart_df[\"rest_ecg\"]).astype(float)\n",
        "heart_df[\"max_hb\"]=(heart_df[\"max_hb\"]).astype(float)\n",
        "heart_df[\"ex_angina\"]=(heart_df[\"ex_angina\"]).astype(float)\n",
        "heart_df[\"old_peak\"]=(heart_df[\"old_peak\"]).astype(float)\n",
        "heart_df[\"slope\"]=(heart_df[\"slope\"]).astype(float)\n",
        "heart_df[\"ca\"]=(heart_df[\"ca\"]).astype(float)\n",
        "heart_df[\"thal\"]=(heart_df[\"thal\"]).astype(float)\n",
        "heart_df[\"num\"]=(heart_df[\"num\"]).astype(int)\n",
        "print(list(heart_df.columns))\n",
        "print(list(heart_df.dtypes))\n"
      ],
      "execution_count": 0,
      "outputs": []
    },
    {
      "cell_type": "markdown",
      "metadata": {
        "id": "ykQnLfvWslzd",
        "colab_type": "text"
      },
      "source": [
        "# **Randomize data**"
      ]
    },
    {
      "cell_type": "code",
      "metadata": {
        "id": "ktlhHtWlm_JI",
        "colab_type": "code",
        "colab": {}
      },
      "source": [
        "heart_df = heart_df.reindex(np.random.permutation(heart_df.index))"
      ],
      "execution_count": 0,
      "outputs": []
    },
    {
      "cell_type": "markdown",
      "metadata": {
        "id": "3Fo5TrHwss-6",
        "colab_type": "text"
      },
      "source": [
        "# **Choose features, lables and split data**"
      ]
    },
    {
      "cell_type": "code",
      "metadata": {
        "id": "Uc7VtXxf6FxI",
        "colab_type": "code",
        "colab": {}
      },
      "source": [
        "def preprocess_features(heart_df):\n",
        "    selected_features = heart_df[['age','sex','cp','rest_bp','chol','fast_bs','rest_ecg','max_hb','ex_angina','old_peak','slope','ca','thal']]\n",
        "    processed_features = selected_features.copy()\n",
        "    return processed_features\n",
        "\n",
        "def preprocess_targets(heart_df):\n",
        "    output_target = pd.DataFrame()\n",
        "    output_target[\"num\"]=heart_df[\"num\"]\n",
        "    return output_target\n",
        "\n",
        "training_examples = preprocess_features(heart_df.head(200))\n",
        "training_targets = preprocess_targets(heart_df.head(200))\n",
        "\n",
        "\n",
        "validation_examples = preprocess_features(heart_df.tail(98))\n",
        "validation_targets = preprocess_targets(heart_df.tail(98))\n",
        "\n",
        "print(\"Training examples summary:\")\n",
        "display.display(training_examples.describe())\n",
        "print(\"Validation examples summary:\")\n",
        "display.display(validation_examples.describe())\n",
        "\n",
        "print(\"Training targets summary:\")\n",
        "display.display(training_targets.describe())\n",
        "print(\"Validation targets summary:\")\n",
        "display.display(validation_targets.describe())"
      ],
      "execution_count": 0,
      "outputs": []
    },
    {
      "cell_type": "markdown",
      "metadata": {
        "id": "gole34D6tATl",
        "colab_type": "text"
      },
      "source": [
        "# **Feature column and input function**"
      ]
    },
    {
      "cell_type": "code",
      "metadata": {
        "id": "RQ4pVAzB6N1T",
        "colab_type": "code",
        "colab": {}
      },
      "source": [
        "def construct_feature_columns(input_features):\n",
        "  return set([tf.feature_column.numeric_column(my_feature)\n",
        "              for my_feature in input_features])\n",
        "\n",
        "def my_input_fn(features, targets, batch_size=1, shuffle=True, num_epochs=None):\n",
        "\n",
        "    # Convert pandas data into a dict of np arrays.\n",
        "    features = {key:np.array(value) for key,value in dict(features).items()}                                             \n",
        " \n",
        "    # Construct a dataset, and configure batching/repeating.\n",
        "    ds = Dataset.from_tensor_slices((features,targets))\n",
        "    ds = ds.batch(batch_size).repeat(num_epochs)\n",
        "    \n",
        "    # Shuffle the data, if specified.\n",
        "    if shuffle:\n",
        "      ds = ds.shuffle(100)\n",
        "    \n",
        "    # Return the next batch of data.\n",
        "    features, labels = ds.make_one_shot_iterator().get_next()\n",
        "    return features, labels"
      ],
      "execution_count": 0,
      "outputs": []
    },
    {
      "cell_type": "markdown",
      "metadata": {
        "id": "IawzYD7ktJ06",
        "colab_type": "text"
      },
      "source": [
        "#**Create NNClassifier Model**"
      ]
    },
    {
      "cell_type": "code",
      "metadata": {
        "id": "G4vlzrRl6Zdl",
        "colab_type": "code",
        "colab": {}
      },
      "source": [
        "def train_nn_classifier_model(\n",
        "    learning_rate,\n",
        "    steps,\n",
        "    batch_size,\n",
        "    hidden_units,\n",
        "    training_examples,\n",
        "    training_targets,\n",
        "    validation_examples,\n",
        "    validation_targets):\n",
        " \n",
        "  periods = 10\n",
        "  steps_per_period = steps / periods\n",
        "  \n",
        "  my_optimizer = tf.train.GradientDescentOptimizer(learning_rate=learning_rate)\n",
        "  dnn_classifier = tf.estimator.DNNClassifier(\n",
        "      feature_columns=construct_feature_columns(training_examples),\n",
        "      n_classes = 5,\n",
        "      hidden_units=hidden_units,\n",
        "      optimizer=my_optimizer,\n",
        "  )\n",
        "  \n",
        "  # Create input functions.\n",
        "  training_input_fn = lambda: my_input_fn(training_examples, \n",
        "                                          training_targets[\"num\"], \n",
        "                                          batch_size=batch_size)\n",
        "  predict_training_input_fn = lambda: my_input_fn(training_examples, \n",
        "                                                  training_targets[\"num\"], \n",
        "                                                  num_epochs=1, \n",
        "                                                  shuffle=False)\n",
        "  predict_validation_input_fn = lambda: my_input_fn(validation_examples, \n",
        "                                                    validation_targets[\"num\"], \n",
        "                                                    num_epochs=1, \n",
        "                                                    shuffle=False)\n",
        "  training_input_fn\n",
        "  # Train the model, but do so inside a loop so that we can periodically assess loss metrics.\n",
        "  print(\"Training model...\")\n",
        "  print(\"LogLoss (on training data):\")\n",
        "  training_log_losses = []\n",
        "  validation_log_losses = []\n",
        "  for period in range (0, periods):\n",
        "    # Train the model, starting from the prior state.\n",
        "    \n",
        "    dnn_classifier.train(\n",
        "        input_fn=training_input_fn,\n",
        "        steps=steps_per_period\n",
        "    )\n",
        "    \n",
        "    # Take a break and compute predictions.    \n",
        "    training_probabilities = dnn_classifier.predict(input_fn=predict_training_input_fn)\n",
        "    training_probabilities = np.array([item['probabilities'] for item in training_probabilities])\n",
        "    \n",
        "    validation_probabilities = dnn_classifier.predict(input_fn=predict_validation_input_fn)\n",
        "    validation_probabilities = np.array([item['probabilities'] for item in validation_probabilities])\n",
        "    \n",
        "    training_log_loss = metrics.log_loss(training_targets, training_probabilities)\n",
        "    validation_log_loss = metrics.log_loss(validation_targets, validation_probabilities)\n",
        "    # Occasionally print the current loss.\n",
        "    print(\"  period %02d : %0.2f\" % (period, training_log_loss))\n",
        "    # Add the loss metrics from this period to our list.\n",
        "    training_log_losses.append(training_log_loss)\n",
        "    validation_log_losses.append(validation_log_loss)\n",
        "  print(\"Model training finished.\")\n",
        "  \n",
        "  # Output a graph of loss metrics over periods.\n",
        "  plt.ylabel(\"LogLoss\")\n",
        "  plt.xlabel(\"Periods\")\n",
        "  plt.title(\"LogLoss vs. Periods\")\n",
        "  plt.tight_layout()\n",
        "  plt.plot(training_log_losses, label=\"training\")\n",
        "  plt.plot(validation_log_losses, label=\"validation\")\n",
        "  plt.legend()\n",
        "\n",
        "  return dnn_classifier"
      ],
      "execution_count": 0,
      "outputs": []
    },
    {
      "cell_type": "markdown",
      "metadata": {
        "id": "2-0hyDNqtUuC",
        "colab_type": "text"
      },
      "source": [
        "#**Tune Hyper-parameters**"
      ]
    },
    {
      "cell_type": "code",
      "metadata": {
        "id": "rgP3lQWO6epE",
        "colab_type": "code",
        "colab": {}
      },
      "source": [
        "dnn_classifier = train_nn_classifier_model(\n",
        "    learning_rate=0.018,\n",
        "    steps=200,\n",
        "    batch_size=1,\n",
        "    hidden_units=[9,7],\n",
        "    training_examples=training_examples,\n",
        "    training_targets=training_targets,\n",
        "    validation_examples=validation_examples,\n",
        "    validation_targets=validation_targets\n",
        "  )\n",
        "predict_validation_input_fn = lambda: my_input_fn(validation_examples, \n",
        "                                                  validation_targets[\"num\"], \n",
        "                                                  num_epochs=1, \n",
        "                                                  shuffle=False)\n",
        "\n",
        "evaluation_metrics = dnn_classifier.evaluate(input_fn=predict_validation_input_fn)\n",
        "\n",
        "for i in list(evaluation_metrics):\n",
        "  print(i,evaluation_metrics[i])"
      ],
      "execution_count": 0,
      "outputs": []
    }
  ]
}